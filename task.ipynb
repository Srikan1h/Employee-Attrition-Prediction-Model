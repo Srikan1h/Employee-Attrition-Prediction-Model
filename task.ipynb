{
  "nbformat": 4,
  "nbformat_minor": 0,
  "metadata": {
    "colab": {
      "provenance": [],
      "authorship_tag": "ABX9TyP8bPBrwfUOzlWuQp01/3x9",
      "include_colab_link": true
    },
    "kernelspec": {
      "name": "python3",
      "display_name": "Python 3"
    },
    "language_info": {
      "name": "python"
    }
  },
  "cells": [
    {
      "cell_type": "markdown",
      "metadata": {
        "id": "view-in-github",
        "colab_type": "text"
      },
      "source": [
        "<a href=\"https://colab.research.google.com/github/Srikan1h/Employee-Attrition-Prediction-Model/blob/main/task.ipynb\" target=\"_parent\"><img src=\"https://colab.research.google.com/assets/colab-badge.svg\" alt=\"Open In Colab\"/></a>"
      ]
    },
    {
      "cell_type": "code",
      "source": [
        "import pandas as pd"
      ],
      "metadata": {
        "id": "AEOF6cNYEsCL"
      },
      "execution_count": 4,
      "outputs": []
    },
    {
      "cell_type": "code",
      "source": [
        "df = pd.read_csv('employee_attrition.csv')"
      ],
      "metadata": {
        "id": "UUgo6DnuEvfu"
      },
      "execution_count": 5,
      "outputs": []
    },
    {
      "cell_type": "code",
      "source": [
        "print(\"Initial Data Snapshot:\")\n",
        "print(df.head())"
      ],
      "metadata": {
        "colab": {
          "base_uri": "https://localhost:8080/"
        },
        "id": "kyU6l4IZE0b3",
        "outputId": "14e34c05-ba21-4632-aaad-0ec84e930552"
      },
      "execution_count": 6,
      "outputs": [
        {
          "output_type": "stream",
          "name": "stdout",
          "text": [
            "Initial Data Snapshot:\n",
            "   Age Attrition     BusinessTravel  DailyRate              Department  \\\n",
            "0   41       Yes      Travel_Rarely       1102                   Sales   \n",
            "1   49        No  Travel_Frequently        279  Research & Development   \n",
            "2   37       Yes      Travel_Rarely       1373  Research & Development   \n",
            "3   33        No  Travel_Frequently       1392  Research & Development   \n",
            "4   27        No      Travel_Rarely        591  Research & Development   \n",
            "\n",
            "   DistanceFromHome  Education EducationField  EmployeeCount  EmployeeNumber  \\\n",
            "0                 1          2  Life Sciences              1               1   \n",
            "1                 8          1  Life Sciences              1               2   \n",
            "2                 2          2          Other              1               4   \n",
            "3                 3          4  Life Sciences              1               5   \n",
            "4                 2          1        Medical              1               7   \n",
            "\n",
            "   ...  RelationshipSatisfaction StandardHours  StockOptionLevel  \\\n",
            "0  ...                         1            80                 0   \n",
            "1  ...                         4            80                 1   \n",
            "2  ...                         2            80                 0   \n",
            "3  ...                         3            80                 0   \n",
            "4  ...                         4            80                 1   \n",
            "\n",
            "   TotalWorkingYears  TrainingTimesLastYear WorkLifeBalance  YearsAtCompany  \\\n",
            "0                  8                      0               1               6   \n",
            "1                 10                      3               3              10   \n",
            "2                  7                      3               3               0   \n",
            "3                  8                      3               3               8   \n",
            "4                  6                      3               3               2   \n",
            "\n",
            "  YearsInCurrentRole  YearsSinceLastPromotion  YearsWithCurrManager  \n",
            "0                  4                        0                     5  \n",
            "1                  7                        1                     7  \n",
            "2                  0                        0                     0  \n",
            "3                  7                        3                     0  \n",
            "4                  2                        2                     2  \n",
            "\n",
            "[5 rows x 35 columns]\n"
          ]
        }
      ]
    },
    {
      "cell_type": "code",
      "source": [
        "print(\"\\nDataset Information:\")\n",
        "df.info()\n"
      ],
      "metadata": {
        "colab": {
          "base_uri": "https://localhost:8080/"
        },
        "id": "uTo0aXl_E3bb",
        "outputId": "e8f7b0a5-54e9-4a65-fe5b-1e6ce149d3f0"
      },
      "execution_count": 7,
      "outputs": [
        {
          "output_type": "stream",
          "name": "stdout",
          "text": [
            "\n",
            "Dataset Information:\n",
            "<class 'pandas.core.frame.DataFrame'>\n",
            "RangeIndex: 21 entries, 0 to 20\n",
            "Data columns (total 35 columns):\n",
            " #   Column                    Non-Null Count  Dtype \n",
            "---  ------                    --------------  ----- \n",
            " 0   Age                       21 non-null     int64 \n",
            " 1   Attrition                 21 non-null     object\n",
            " 2   BusinessTravel            21 non-null     object\n",
            " 3   DailyRate                 21 non-null     int64 \n",
            " 4   Department                21 non-null     object\n",
            " 5   DistanceFromHome          21 non-null     int64 \n",
            " 6   Education                 21 non-null     int64 \n",
            " 7   EducationField            21 non-null     object\n",
            " 8   EmployeeCount             21 non-null     int64 \n",
            " 9   EmployeeNumber            21 non-null     int64 \n",
            " 10  EnvironmentSatisfaction   21 non-null     int64 \n",
            " 11  Gender                    21 non-null     object\n",
            " 12  HourlyRate                21 non-null     int64 \n",
            " 13  JobInvolvement            21 non-null     int64 \n",
            " 14  JobLevel                  21 non-null     int64 \n",
            " 15  JobRole                   21 non-null     object\n",
            " 16  JobSatisfaction           21 non-null     int64 \n",
            " 17  MaritalStatus             21 non-null     object\n",
            " 18  MonthlyIncome             21 non-null     int64 \n",
            " 19  MonthlyRate               21 non-null     int64 \n",
            " 20  NumCompaniesWorked        21 non-null     int64 \n",
            " 21  Over18                    21 non-null     object\n",
            " 22  OverTime                  21 non-null     object\n",
            " 23  PercentSalaryHike         21 non-null     int64 \n",
            " 24  PerformanceRating         21 non-null     int64 \n",
            " 25  RelationshipSatisfaction  21 non-null     int64 \n",
            " 26  StandardHours             21 non-null     int64 \n",
            " 27  StockOptionLevel          21 non-null     int64 \n",
            " 28  TotalWorkingYears         21 non-null     int64 \n",
            " 29  TrainingTimesLastYear     21 non-null     int64 \n",
            " 30  WorkLifeBalance           21 non-null     int64 \n",
            " 31  YearsAtCompany            21 non-null     int64 \n",
            " 32  YearsInCurrentRole        21 non-null     int64 \n",
            " 33  YearsSinceLastPromotion   21 non-null     int64 \n",
            " 34  YearsWithCurrManager      21 non-null     int64 \n",
            "dtypes: int64(26), object(9)\n",
            "memory usage: 5.9+ KB\n"
          ]
        }
      ]
    },
    {
      "cell_type": "code",
      "source": [
        "df.drop(['EmployeeCount', 'StandardHours', 'Over18', 'EmployeeNumber'], axis=1, inplace=True)"
      ],
      "metadata": {
        "id": "IRSFOraAE9vw"
      },
      "execution_count": 8,
      "outputs": []
    },
    {
      "cell_type": "code",
      "source": [
        "df['Attrition'] = df['Attrition'].map({'Yes': 1, 'No': 0})"
      ],
      "metadata": {
        "id": "6k5Sd9p2FBzE"
      },
      "execution_count": 9,
      "outputs": []
    },
    {
      "cell_type": "code",
      "source": [
        "# Separate features (X) and target (y)\n",
        "X = df.drop('Attrition', axis=1)\n",
        "y = df['Attrition']"
      ],
      "metadata": {
        "id": "Cz5OShHYFFpJ"
      },
      "execution_count": 10,
      "outputs": []
    },
    {
      "cell_type": "code",
      "source": [
        "\n",
        "# Identify categorical features to encode\n",
        "categorical_features = X.select_dtypes(include='object').columns"
      ],
      "metadata": {
        "id": "AXI9aaarFJHM"
      },
      "execution_count": 11,
      "outputs": []
    },
    {
      "cell_type": "code",
      "source": [
        "# Use pandas to perform One-Hot Encoding\n",
        "X = pd.get_dummies(X, columns=categorical_features, drop_first=True)"
      ],
      "metadata": {
        "id": "edrFmVEyFMU7"
      },
      "execution_count": 12,
      "outputs": []
    },
    {
      "cell_type": "code",
      "source": [
        "# Display the cleaned data\n",
        "print(\"Cleaned and Encoded Data Snapshot:\")\n",
        "print(X.head())\n"
      ],
      "metadata": {
        "colab": {
          "base_uri": "https://localhost:8080/"
        },
        "id": "beQ-eGoYFPHg",
        "outputId": "70896f4f-e0bf-468f-ae54-e6b83ba00225"
      },
      "execution_count": 13,
      "outputs": [
        {
          "output_type": "stream",
          "name": "stdout",
          "text": [
            "Cleaned and Encoded Data Snapshot:\n",
            "   Age  DailyRate  DistanceFromHome  Education  EnvironmentSatisfaction  \\\n",
            "0   41       1102                 1          2                        2   \n",
            "1   49        279                 8          1                        3   \n",
            "2   37       1373                 2          2                        4   \n",
            "3   33       1392                 3          4                        4   \n",
            "4   27        591                 2          1                        1   \n",
            "\n",
            "   HourlyRate  JobInvolvement  JobLevel  JobSatisfaction  MonthlyIncome  ...  \\\n",
            "0          94               3         2                4           5993  ...   \n",
            "1          61               2         2                2           5130  ...   \n",
            "2          92               2         1                3           2090  ...   \n",
            "3          56               3         1                3           2909  ...   \n",
            "4          40               3         1                2           3468  ...   \n",
            "\n",
            "   EducationField_Medical  EducationField_Other  Gender_Male  \\\n",
            "0                   False                 False        False   \n",
            "1                   False                 False         True   \n",
            "2                   False                  True         True   \n",
            "3                   False                 False        False   \n",
            "4                    True                 False         True   \n",
            "\n",
            "   JobRole_Laboratory Technician  JobRole_Manufacturing Director  \\\n",
            "0                          False                           False   \n",
            "1                          False                           False   \n",
            "2                           True                           False   \n",
            "3                          False                           False   \n",
            "4                           True                           False   \n",
            "\n",
            "   JobRole_Research Scientist  JobRole_Sales Executive  MaritalStatus_Married  \\\n",
            "0                       False                     True                  False   \n",
            "1                        True                    False                   True   \n",
            "2                       False                    False                  False   \n",
            "3                        True                    False                   True   \n",
            "4                       False                    False                   True   \n",
            "\n",
            "   MaritalStatus_Single  OverTime_Yes  \n",
            "0                  True          True  \n",
            "1                 False         False  \n",
            "2                  True          True  \n",
            "3                 False          True  \n",
            "4                 False         False  \n",
            "\n",
            "[5 rows x 35 columns]\n"
          ]
        }
      ]
    },
    {
      "cell_type": "code",
      "source": [
        "# Save the cleaned dataset as a CSV file\n",
        "X.to_csv('clean_employee_attrition.csv', index=False)\n"
      ],
      "metadata": {
        "id": "2xhTN0r4FXHo"
      },
      "execution_count": 15,
      "outputs": []
    },
    {
      "cell_type": "code",
      "source": [
        "import matplotlib.pyplot as plt\n",
        "import seaborn as sns"
      ],
      "metadata": {
        "id": "yfC3kTUp3VG_"
      },
      "execution_count": 16,
      "outputs": []
    },
    {
      "cell_type": "code",
      "source": [
        "# Set a style for the plots\n",
        "sns.set_style(\"whitegrid\")"
      ],
      "metadata": {
        "id": "Shjqfc2p3Vs-"
      },
      "execution_count": 17,
      "outputs": []
    },
    {
      "cell_type": "code",
      "source": [
        "# 1. Visualize the Attrition Rate\n",
        "plt.figure(figsize=(6, 5))\n",
        "sns.countplot(x='Attrition', data=df)\n",
        "plt.title('Overall Attrition Rate')\n",
        "plt.xticks([0, 1], ['No Attrition', 'Attrition'])\n",
        "plt.show()"
      ],
      "metadata": {
        "colab": {
          "base_uri": "https://localhost:8080/",
          "height": 487
        },
        "id": "8_ZlNbyd37Rq",
        "outputId": "a9b6ffa7-425d-48bc-d9d9-e37edf894532"
      },
      "execution_count": 18,
      "outputs": [
        {
          "output_type": "display_data",
          "data": {
            "text/plain": [
              "<Figure size 600x500 with 1 Axes>"
            ],
            "image/png": "[encoded data removed]"
          },
          "metadata": {}
        }
      ]
    },
    {
      "cell_type": "code",
      "source": [
        "# 2. Attrition by Job Satisfaction (a key insight)\n",
        "plt.figure(figsize=(10, 6))\n",
        "sns.countplot(x='JobSatisfaction', hue='Attrition', data=df)\n",
        "plt.title('Attrition by Job Satisfaction')\n",
        "plt.show()"
      ],
      "metadata": {
        "colab": {
          "base_uri": "https://localhost:8080/",
          "height": 564
        },
        "id": "IxGn6zli4C4c",
        "outputId": "be328681-bf4f-4e78-d44b-77e560951173"
      },
      "execution_count": 21,
      "outputs": [
        {
          "output_type": "display_data",
          "data": {
            "text/plain": [
              "<Figure size 1000x600 with 1 Axes>"
            ],
            "image/png": "[encoded data removed]"
          },
          "metadata": {}
        }
      ]
    },
    {
      "cell_type": "code",
      "source": [
        "# 3. Attrition by Age (a common analysis)\n",
        "plt.figure(figsize=(10, 6))\n",
        "sns.boxplot(x='Attrition', y='Age', data=df)\n",
        "plt.title('Age Distribution by Attrition')\n",
        "plt.xticks([0, 1], ['No Attrition', 'Attrition'])\n",
        "plt.show()"
      ],
      "metadata": {
        "colab": {
          "base_uri": "https://localhost:8080/",
          "height": 564
        },
        "id": "sxWJ__bY4cT6",
        "outputId": "aca04674-ab16-44ac-fb55-36e4ef2d0cfe"
      },
      "execution_count": 22,
      "outputs": [
        {
          "output_type": "display_data",
          "data": {
            "text/plain": [
              "<Figure size 1000x600 with 1 Axes>"
            ],
            "image/png": "[encoded data removed]"
          },
          "metadata": {}
        }
      ]
    },
    {
      "cell_type": "code",
      "source": [
        "from sklearn.model_selection import train_test_split\n",
        "from sklearn.linear_model import LogisticRegression"
      ],
      "metadata": {
        "id": "fXuE4lXR94ZR"
      },
      "execution_count": 23,
      "outputs": []
    },
    {
      "cell_type": "code",
      "source": [
        "# Split data into training and testing sets\n",
        "# The test_size=0.2 means 20% of the data will be used for testing\n",
        "X_train, X_test, y_train, y_test = train_test_split(X, y, test_size=0.2, random_state=42)\n"
      ],
      "metadata": {
        "id": "iofh2vZcAh8x"
      },
      "execution_count": 24,
      "outputs": []
    },
    {
      "cell_type": "code",
      "source": [
        "# Create a Logistic Regression model instance\n",
        "model = LogisticRegression(max_iter=1000)"
      ],
      "metadata": {
        "id": "klw9dtZpAvIv"
      },
      "execution_count": 26,
      "outputs": []
    },
    {
      "cell_type": "code",
      "source": [
        "# Train the model using the training data\n",
        "print(\"Training the Logistic Regression model...\")\n",
        "model.fit(X_train, y_train)\n",
        "print(\"Model training complete!\")"
      ],
      "metadata": {
        "colab": {
          "base_uri": "https://localhost:8080/"
        },
        "id": "xJqNbasmAy2q",
        "outputId": "a2afcabb-d4af-46cf-a946-68bd40a9b30e"
      },
      "execution_count": 27,
      "outputs": [
        {
          "output_type": "stream",
          "name": "stdout",
          "text": [
            "Training the Logistic Regression model...\n",
            "Model training complete!\n"
          ]
        }
      ]
    },
    {
      "cell_type": "code",
      "source": [
        "from sklearn.metrics import classification_report\n"
      ],
      "metadata": {
        "id": "9xdV71iGA6Gq"
      },
      "execution_count": 28,
      "outputs": []
    },
    {
      "cell_type": "code",
      "source": [
        "# Use the trained model to make predictions on the test data\n",
        "y_pred = model.predict(X_test)"
      ],
      "metadata": {
        "id": "hRK8cF4sA9nH"
      },
      "execution_count": 29,
      "outputs": []
    },
    {
      "cell_type": "code",
      "source": [
        "# Print a comprehensive classification report\n",
        "print(\"Model Evaluation Report:\")\n",
        "print(classification_report(y_test, y_pred))"
      ],
      "metadata": {
        "colab": {
          "base_uri": "https://localhost:8080/"
        },
        "id": "kE8DJCUKCj_q",
        "outputId": "b1acf92f-f519-4bfd-a408-d5ffbf242bf2"
      },
      "execution_count": 30,
      "outputs": [
        {
          "output_type": "stream",
          "name": "stdout",
          "text": [
            "Model Evaluation Report:\n",
            "              precision    recall  f1-score   support\n",
            "\n",
            "           0       0.80      1.00      0.89         4\n",
            "           1       0.00      0.00      0.00         1\n",
            "\n",
            "    accuracy                           0.80         5\n",
            "   macro avg       0.40      0.50      0.44         5\n",
            "weighted avg       0.64      0.80      0.71         5\n",
            "\n"
          ]
        },
        {
          "output_type": "stream",
          "name": "stderr",
          "text": [
            "/usr/local/lib/python3.12/dist-packages/sklearn/metrics/_classification.py:1565: UndefinedMetricWarning: Precision is ill-defined and being set to 0.0 in labels with no predicted samples. Use `zero_division` parameter to control this behavior.\n",
            "  _warn_prf(average, modifier, f\"{metric.capitalize()} is\", len(result))\n",
            "/usr/local/lib/python3.12/dist-packages/sklearn/metrics/_classification.py:1565: UndefinedMetricWarning: Precision is ill-defined and being set to 0.0 in labels with no predicted samples. Use `zero_division` parameter to control this behavior.\n",
            "  _warn_prf(average, modifier, f\"{metric.capitalize()} is\", len(result))\n",
            "/usr/local/lib/python3.12/dist-packages/sklearn/metrics/_classification.py:1565: UndefinedMetricWarning: Precision is ill-defined and being set to 0.0 in labels with no predicted samples. Use `zero_division` parameter to control this behavior.\n",
            "  _warn_prf(average, modifier, f\"{metric.capitalize()} is\", len(result))\n"
          ]
        }
      ]
    },
    {
      "cell_type": "code",
      "source": [
        "import pickle\n",
        "\n",
        "# Define the file name for our model\n",
        "model_filename = 'employee_attrition_model.pkl'\n",
        "\n",
        "# Save the trained model to the file\n",
        "with open(model_filename, 'wb') as file:\n",
        "    pickle.dump(model, file)\n",
        "\n",
        "print(f\"Model successfully saved to '{model_filename}'\")"
      ],
      "metadata": {
        "colab": {
          "base_uri": "https://localhost:8080/"
        },
        "id": "GV6yL9BFCra0",
        "outputId": "b619374d-c433-4ab7-d494-8074ecec3012"
      },
      "execution_count": 31,
      "outputs": [
        {
          "output_type": "stream",
          "name": "stdout",
          "text": [
            "Model successfully saved to 'employee_attrition_model.pkl'\n"
          ]
        }
      ]
    }
  ]
}